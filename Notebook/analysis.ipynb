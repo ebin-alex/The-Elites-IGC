{
 "cells": [
  {
   "cell_type": "markdown",
   "metadata": {},
   "source": [
    "# Team: The Elites"
   ]
  },
  {
   "cell_type": "code",
   "execution_count": null,
   "metadata": {},
   "outputs": [],
   "source": [
    "import pandas as pd\n",
    "\n",
    "# Load the dataset to examine its structure and contents\n",
    "file_path = 'unnati_phase1_data_revised.csv'\n",
    "df = pd.read_csv(file_path)\n",
    "\n",
    "# Show the first few rows of the dataset to understand its structure\n",
    "df.head(), df.info()\n"
   ]
  },
  {
   "cell_type": "code",
   "execution_count": null,
   "metadata": {},
   "outputs": [],
   "source": [
    "import matplotlib.pyplot as plt\n",
    "import seaborn as sns\n",
    "\n",
    "# Set the aesthetic style of the plots\n",
    "sns.set(style=\"whitegrid\")\n",
    "\n",
    "# Initialize the figure\n",
    "plt.figure(figsize=(20, 15))\n",
    "\n",
    "# Create subplots\n",
    "plt.subplot(2, 2, 1)\n",
    "sns.countplot(data=df, x='Alert', order=df['Alert'].value_counts().index)\n",
    "plt.title('Frequency of Different Types of Alerts')\n",
    "\n",
    "plt.subplot(2, 2, 2)\n",
    "sns.countplot(data=df, x='Vehicle', order=df['Vehicle'].value_counts().index)\n",
    "plt.title('Frequency of Alerts by Vehicle')\n",
    "plt.xticks(rotation=45)\n",
    "\n",
    "plt.subplot(2, 2, 3)\n",
    "sns.histplot(df['Speed'], bins=30, kde=True)\n",
    "plt.title('Distribution of Speed During Events')\n",
    "\n",
    "plt.subplot(2, 2, 4)\n",
    "df['Date'] = pd.to_datetime(df['Date'])\n",
    "df['Day_of_Week'] = df['Date'].dt.day_name()\n",
    "sns.countplot(data=df, x='Day_of_Week', order=['Monday', 'Tuesday', 'Wednesday', 'Thursday', 'Friday', 'Saturday', 'Sunday'])\n",
    "plt.title('Frequency of Alerts by Day of the Week')\n",
    "\n",
    "plt.tight_layout()\n",
    "plt.show()\n"
   ]
  },
  {
   "cell_type": "code",
   "execution_count": null,
   "metadata": {},
   "outputs": [],
   "source": [
    "# Group the data by Vehicle ID 1995 and count the number of events for each type of alert\n",
    "vehicle_1995_grouped = df[df['Vehicle'] == 1995].groupby('Alert').count()['Date']\n",
    "vehicle_1995_grouped"
   ]
  },
  {
   "cell_type": "markdown",
   "metadata": {},
   "source": [
    "### Frequency of Different Types of Alerts\n",
    "- **cas_ldw (Lane Departure Warning):** Most frequent alert.\n",
    "- **cas_fcw (Forward Collision Warning):** Second most frequent.\n",
    "- **cas_hmw (Headway Monitoring and Warning)** and **cas_pcw (Pedestrian Collision Warning)** also present.\n",
    "\n",
    "### Frequency of Alerts by Vehicle\n",
    "- Some vehicles generate alerts more frequently.\n",
    "- Investigate if certain vehicles are prone to incidents.\n",
    "\n",
    "### Distribution of Speed During Events\n",
    "- Event speeds show a normal distribution.\n",
    "- Most events occur at 40-60 km/h.\n",
    "\n",
    "### Frequency of Alerts by Day of the Week\n",
    "- Alert frequency is consistent throughout the week.\n",
    "- Slight increase on Fridays and Saturdays.\n"
   ]
  },
  {
   "cell_type": "markdown",
   "metadata": {},
   "source": [
    "## 1. Temporal Analysis\n",
    "\n",
    "First, we'll explore how the frequency of alerts changes over time. This will involve:\n",
    "\n",
    "### 1.1 Distribution of Alerts by Hour of the Day\n",
    "\n",
    "We'll begin by analyzing the variation in alert frequency throughout different hours.\n"
   ]
  },
  {
   "cell_type": "code",
   "execution_count": null,
   "metadata": {},
   "outputs": [],
   "source": [
    "# Convert the 'Time' column to datetime format and extract the hour\n",
    "df['Time'] = pd.to_datetime(df['Time']).dt.time\n",
    "df['Hour'] = df['Time'].apply(lambda x: x.hour)\n",
    "\n",
    "# Initialize the figure\n",
    "plt.figure(figsize=(12, 6))\n",
    "\n",
    "# Create the plot\n",
    "sns.countplot(data=df, x='Hour', hue='Alert')\n",
    "plt.title('Distribution of Alerts by Hour of the Day')\n",
    "plt.xlabel('Hour of the Day')\n",
    "plt.ylabel('Frequency')\n",
    "\n",
    "plt.tight_layout()\n",
    "plt.show()"
   ]
  },
  {
   "cell_type": "markdown",
   "metadata": {},
   "source": [
    "#### Insights from Distribution of Alerts by Hour of the Day:\n",
    "- Alert frequency peaks during the morning (around 6-8 AM) and late afternoon (around 4-6 PM), potentially coinciding with rush hours.\n",
    "- The most frequent alert type throughout the day is cas_ldw (Lane Departure Warning).\n",
    "\n",
    "### 1.2 Trends in the Number of Alerts Over Time\n",
    "Next, we'll examine how the number of alerts has changed over the two-month period.\n"
   ]
  },
  {
   "cell_type": "code",
   "execution_count": null,
   "metadata": {},
   "outputs": [],
   "source": [
    "# Group data by date and count the number of alerts for each date\n",
    "alerts_by_date = df.groupby('Date').size().reset_index(name='Count')\n",
    "\n",
    "# Initialize the figure\n",
    "plt.figure(figsize=(15, 6))\n",
    "\n",
    "# Create the plot\n",
    "sns.lineplot(data=alerts_by_date, x='Date', y='Count')\n",
    "plt.title('Trends in the Number of Alerts Over Time')\n",
    "plt.xlabel('Date')\n",
    "plt.ylabel('Frequency of Alerts')\n",
    "\n",
    "plt.tight_layout()\n",
    "plt.show()"
   ]
  },
  {
   "cell_type": "markdown",
   "metadata": {},
   "source": [
    "## 2. Spatial Analysis\n",
    "\n",
    "Moving on, we'll shift our attention to the spatial distribution of these alerts. Our goal is to create a plot using geographical coordinates to potentially pinpoint \"hotspots\" or areas prone to accidents.\n",
    "\n",
    "### 2.1 Plotting Geographical Coordinates of Alerts\n",
    "\n",
    "Our next step involves visualizing the locations where these alerts are most prevalent.\n"
   ]
  },
  {
   "cell_type": "code",
   "execution_count": null,
   "metadata": {},
   "outputs": [],
   "source": [
    "! pip install folium\n",
    "import folium\n",
    "\n",
    "# Function to map the alerts to different colors\n",
    "def get_color(alert_type):\n",
    "    if alert_type == \"cas_fcw\":\n",
    "        return \"red\"\n",
    "    elif alert_type == \"cas_pcw\":\n",
    "        return \"blue\"\n",
    "    elif alert_type == \"cas_ldw\":\n",
    "        return \"green\"\n",
    "    else:  # cas_hmw\n",
    "        return \"purple\"\n",
    "\n",
    "# Create a base map\n",
    "m = folium.Map(location=[df['Lat'].mean(), df['Long'].mean()], zoom_start=10)\n",
    "\n",
    "# Add points to the map\n",
    "for idx, row in df.iterrows():\n",
    "    folium.CircleMarker(\n",
    "        location=(row['Lat'], row['Long']),\n",
    "        radius=2,\n",
    "        color=get_color(row['Alert']),\n",
    "        fill=True,\n",
    "        fill_opacity=0.6\n",
    "    ).add_to(m)\n",
    "\n",
    "m\n"
   ]
  },
  {
   "cell_type": "markdown",
   "metadata": {},
   "source": [
    "#### Insights from Geographical Distribution of Alerts:\n",
    "- Alert concentration in specific areas suggests possible \"hotspots\" prone to incidents.\n",
    "- Alert types vary across locations; cas_ldw (Lane Departure Warning) remains prevalent.\n",
    "\n",
    "## 3. Vehicle-Based Analysis\n",
    "\n",
    "Moving forward, we'll delve into whether specific vehicles are more inclined to generate particular types of alerts.\n",
    "\n",
    "### 3.1 Frequency of Alerts by Vehicle Type\n",
    "Our analysis continues by examining the frequency of alerts categorized by vehicle type.\n"
   ]
  },
  {
   "cell_type": "code",
   "execution_count": null,
   "metadata": {},
   "outputs": [],
   "source": [
    "# Initialize the figure\n",
    "plt.figure(figsize=(15, 8))\n",
    "\n",
    "# Create the plot\n",
    "sns.countplot(data=df, x='Vehicle', hue='Alert', order=df['Vehicle'].value_counts().index)\n",
    "plt.title('Frequency of Alerts by Vehicle')\n",
    "plt.xlabel('Vehicle ID')\n",
    "plt.ylabel('Frequency')\n",
    "plt.xticks(rotation=45)\n",
    "\n",
    "plt.tight_layout()\n",
    "plt.show()\n"
   ]
  },
  {
   "cell_type": "markdown",
   "metadata": {},
   "source": [
    "#### Insights from Frequency of Alerts by Vehicle Type:\n",
    "- Certain vehicles show higher frequencies of specific alerts.\n",
    "- Vehicle ID 2846 generates numerous cas_ldw (Lane Departure Warning) alerts.\n",
    "- Alert distribution varies by vehicle, indicating factors such as vehicle condition or driving behavior.\n",
    "\n",
    "## 4. Speed Analysis\n",
    "\n",
    "Lastly, we'll investigate the connection between speed and the types of alerts generated.\n",
    "\n",
    "### 4.1 Speed Distribution by Alert Type\n",
    "Our investigation proceeds with examining speed distribution categorized by alert type.\n"
   ]
  },
  {
   "cell_type": "code",
   "execution_count": null,
   "metadata": {},
   "outputs": [],
   "source": [
    "# Initialize the figure\n",
    "plt.figure(figsize=(15, 8))\n",
    "\n",
    "# Create the plot\n",
    "sns.boxplot(data=df, x='Alert', y='Speed')\n",
    "plt.title('Speed Distribution by Alert Type')\n",
    "plt.xlabel('Type of Alert')\n",
    "plt.ylabel('Speed (km/h)')\n",
    "\n",
    "plt.tight_layout()\n",
    "plt.show()\n"
   ]
  },
  {
   "cell_type": "markdown",
   "metadata": {},
   "source": [
    "#### Insights from Speed Distribution by Alert Type:\n",
    "- The median speed is highest for cas_fcw (Forward Collision Warning) and lowest for cas_pcw (Pedestrian Collision Warning).\n",
    "- Each alert type has a wide range of associated speeds.\n",
    "- cas_hmw (Headway Monitoring and Warning) exhibits the most variability in speed.\n"
   ]
  },
  {
   "cell_type": "markdown",
   "metadata": {},
   "source": [
    "### Next steps:\n",
    "#### Key Observations\n",
    "\n",
    "- Peak alerts during commuting hours (6-8 AM, 4-6 PM), requiring increased vigilance and potential traffic management.\n",
    "\n",
    "- Hotspots in certain areas indicate higher accident risk; consider improved road infrastructure and enforcement.\n",
    "\n",
    "- Vehicle-specific alert patterns may suggest maintenance needs or driving behavior adjustments.\n",
    "\n",
    "- Speed-alert relationship implies adapting speed limits and warnings to incident types at different speeds.\n",
    "\n",
    "- Frequent cas_ldw alerts point to lane-changing behavior, prompting better lane discipline.\n",
    "\n",
    "#### Recommendations\n",
    "\n",
    "- Enhance traffic management in peak hours and hotspots to prevent collisions.\n",
    "\n",
    "- Monitor and take corrective actions for vehicles frequently triggering alerts.\n",
    "\n",
    "- Upgrade road infrastructure in hotspot areas to mitigate risks.\n",
    "\n",
    "- Increase public awareness about speed limits and lane discipline.\n",
    "\n",
    "- Integrate data with accidents, weather, and road types for comprehensive analysis.\n",
    "\n",
    "- Develop a real-time alert system for high-risk areas or conditions.\n"
   ]
  },
  {
   "cell_type": "markdown",
   "metadata": {},
   "source": []
  }
 ],
 "metadata": {
  "kernelspec": {
   "display_name": "Python 3",
   "language": "python",
   "name": "python3"
  },
  "language_info": {
   "codemirror_mode": {
    "name": "ipython",
    "version": 3
   },
   "file_extension": ".py",
   "mimetype": "text/x-python",
   "name": "python",
   "nbconvert_exporter": "python",
   "pygments_lexer": "ipython3",
   "version": "3.11.5"
  },
  "orig_nbformat": 4
 },
 "nbformat": 4,
 "nbformat_minor": 2
}
